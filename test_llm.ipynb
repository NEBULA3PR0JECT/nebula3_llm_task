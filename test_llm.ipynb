{
 "cells": [
  {
   "cell_type": "code",
   "execution_count": 1,
   "metadata": {},
   "outputs": [],
   "source": [
    "import os\n",
    "from typing import Tuple\n",
    "from llm_orchestration import *\n",
    "from nebula3_database.movie.movie_db import MOVIE_DB\n",
    "from experts.pipeline.api import PipelineApi, PipelineTask\n",
    "\n",
    "def test_pipeline_task(pipeline_id):\n",
    "    class LlmTask(PipelineTask):\n",
    "        def __init__(self):\n",
    "            self.llm_task = LlmTaskInternal()\n",
    "            print(\"LlmTask Initialized successfully.\")\n",
    "\n",
    "        def process_movie(self, movie_id: str) -> Tuple[bool, str]:\n",
    "            print (f'LlmTask: handling movie: {movie_id}')\n",
    "\n",
    "            output = self.llm_task.process_movie(movie_id)\n",
    "\n",
    "            print(\"LlmTask: Finished handling movie.\")\n",
    "            print(output)\n",
    "            return output\n",
    "        def get_name(self) -> str:\n",
    "            return \"llm\"\n",
    "\n",
    "    pipeline = PipelineApi(None)\n",
    "    task = LlmTask()\n",
    "    pipeline.handle_pipeline_task(task, pipeline_id, stop_on_failure=True)\n"
   ]
  },
  {
   "cell_type": "code",
   "execution_count": 2,
   "metadata": {},
   "outputs": [],
   "source": [
    "# ppl = PipelineApi(None)"
   ]
  },
  {
   "cell_type": "code",
   "execution_count": 3,
   "metadata": {},
   "outputs": [],
   "source": [
    "nebula_db = NEBULA_DB()\n",
    "nebula_db.change_db(\"nebula_playground\")"
   ]
  },
  {
   "cell_type": "code",
   "execution_count": 4,
   "metadata": {},
   "outputs": [],
   "source": [
    "mid = MovieImageId(\"Movies/-3103202934810463453\",90)"
   ]
  },
  {
   "cell_type": "code",
   "execution_count": null,
   "metadata": {},
   "outputs": [],
   "source": [
    "clues = nebula_db.db.collection(VISUAL_CLUES_COLLECTION)\n",
    "list(clues.find(image_id_as_dict(mid)))[0]"
   ]
  },
  {
   "cell_type": "code",
   "execution_count": null,
   "metadata": {},
   "outputs": [],
   "source": [
    "# nebula_db.get_doc_by_key(image_id_as_dict(mid),'s4_visual_clues')\n",
    "nebula_db.get_doc_by_key(image_id_as_dict(mid),'s4_visual_clues')\n",
    "# nebula_db.get_movie_frame_from_collection(mid)"
   ]
  },
  {
   "cell_type": "code",
   "execution_count": 6,
   "metadata": {},
   "outputs": [
    {
     "data": {
      "text/plain": [
       "True"
      ]
     },
     "execution_count": 6,
     "metadata": {},
     "output_type": "execute_result"
    }
   ],
   "source": [
    "nebula_db.write_doc_by_key({'gil': 5, 'dan': 15, 'tali': 20},collection_name='giltest', overwrite = True, key_list=['gil'])"
   ]
  },
  {
   "cell_type": "code",
   "execution_count": 7,
   "metadata": {},
   "outputs": [
    {
     "data": {
      "text/plain": [
       "[{'_key': '27901045',\n",
       "  '_id': 'giltest/27901045',\n",
       "  '_rev': '_fGA_ZRK---',\n",
       "  'gil': 6,\n",
       "  'dan': 1,\n",
       "  'tali': 0},\n",
       " {'_key': '27901055',\n",
       "  '_id': 'giltest/27901055',\n",
       "  '_rev': '_fGAAsVG---',\n",
       "  'gil': 5,\n",
       "  'dan': 15,\n",
       "  'tali': 20}]"
      ]
     },
     "execution_count": 7,
     "metadata": {},
     "output_type": "execute_result"
    }
   ],
   "source": [
    "list(nebula_db.db.collection('giltest').find({}))"
   ]
  },
  {
   "cell_type": "code",
   "execution_count": null,
   "metadata": {},
   "outputs": [],
   "source": [
    "ppl.get_new_movies(\"12345678\",\"llm\")"
   ]
  },
  {
   "cell_type": "code",
   "execution_count": null,
   "metadata": {},
   "outputs": [],
   "source": [
    "test_pipeline_task(\"12345678\")"
   ]
  },
  {
   "cell_type": "code",
   "execution_count": null,
   "metadata": {},
   "outputs": [],
   "source": [
    "task = LlmTaskInternal()"
   ]
  },
  {
   "cell_type": "code",
   "execution_count": null,
   "metadata": {},
   "outputs": [],
   "source": [
    "mid = MovieImageId(\"Movies/-3103202934810463453\",90)\n",
    "mobj = task.nebula_db.get_movie_frame_from_collection(mid)"
   ]
  },
  {
   "cell_type": "code",
   "execution_count": null,
   "metadata": {},
   "outputs": [],
   "source": [
    "mobj['url']"
   ]
  },
  {
   "cell_type": "code",
   "execution_count": null,
   "metadata": {},
   "outputs": [],
   "source": [
    "rc = task.process_target_id(mid,image_url=mobj['url'],n=5)"
   ]
  },
  {
   "cell_type": "code",
   "execution_count": null,
   "metadata": {},
   "outputs": [],
   "source": [
    "rc"
   ]
  },
  {
   "cell_type": "code",
   "execution_count": null,
   "metadata": {},
   "outputs": [],
   "source": [
    "task.nebula_db.write_movie_frame_doc_to_collection(mid,rc,LLM_OUTPUT_COLLECTION)"
   ]
  },
  {
   "cell_type": "code",
   "execution_count": null,
   "metadata": {},
   "outputs": [],
   "source": [
    "task.process_movie(\"Movies/-3103202934810463453\",n=5)"
   ]
  },
  {
   "cell_type": "code",
   "execution_count": null,
   "metadata": {},
   "outputs": [],
   "source": []
  }
 ],
 "metadata": {
  "kernelspec": {
   "display_name": "Python 3 (ipykernel)",
   "language": "python",
   "name": "python3"
  },
  "language_info": {
   "codemirror_mode": {
    "name": "ipython",
    "version": 3
   },
   "file_extension": ".py",
   "mimetype": "text/x-python",
   "name": "python",
   "nbconvert_exporter": "python",
   "pygments_lexer": "ipython3",
   "version": "3.10.6"
  },
  "vscode": {
   "interpreter": {
    "hash": "dafab0f5b0f2e0b482ce484a64bf4a63ea947b97362cb54784af04b5754b7b41"
   }
  }
 },
 "nbformat": 4,
 "nbformat_minor": 4
}
